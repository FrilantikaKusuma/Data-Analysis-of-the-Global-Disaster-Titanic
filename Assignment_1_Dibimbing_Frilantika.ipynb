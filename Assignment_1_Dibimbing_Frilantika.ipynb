{
  "cells": [
    {
      "cell_type": "markdown",
      "id": "39bf7b14",
      "metadata": {
        "id": "39bf7b14"
      },
      "source": [
        "## Buatlah sebuah program yang:\n",
        "\n",
        "   1. Meminta input dari pengguna:\n",
        "\n",
        "       - Nama mahasiswa\n",
        "\n",
        "       - NIM mahasiswa\n",
        "\n",
        "       - Nilai ujian (dalam angka, 0–100)\n",
        "\n",
        "   2. Cek dan tampilkan tipe data dari setiap input.\n",
        "\n",
        "   3. Gunakan if-elif-else untuk menentukan kategori nilai, dengan kriteria sebagai berikut:\n",
        "   \n",
        "```\n",
        "Nilai | Kategori\n",
        "85 - 100 | A (Sangat Baik)\n",
        "75 - 84 | B (Baik)\n",
        "60 - 74 | C (Cukup)\n",
        "40 - 59 | D (Kurang)\n",
        "< 40 | E (Sangat Kurang)\n",
        "```\n",
        "\n",
        "```\n",
        "==== Ekspektasi Output Jawaban : =====\n",
        "Masukkan nama mahasiswa: Sarah\n",
        "Masukkan NIM: 12345678\n",
        "Masukkan nilai ujian (0-100): 81\n",
        "\n",
        "Nama: Sarah (type: <class 'str'>)\n",
        "NIM: 12345678 (type: <class 'str'>)\n",
        "Nilai: 81 (type: <class 'int'>)\n",
        "\n",
        "Hasil Evaluasi:\n",
        "Mahasiswa: Sarah (NIM: 12345678)\n",
        "Nilai Ujian: 81\n",
        "Kategori Nilai: B (Baik)\n",
        "```"
      ]
    },
    {
      "cell_type": "code",
      "source": [
        "#Input data mahasiswa\n",
        "\n",
        "print(\"========== Data Mahasiwa ==========\")\n",
        "nama = input(\"Masukkan nama mahasiswa: \")\n",
        "nim = input(\"Masukkan NIM: \")\n",
        "nilai = int(input(\"Masukkan nilai ujian (0-100): \"))\n",
        "\n",
        "#Tipe data\n",
        "\n",
        "print(f\"\\nNama: {nama} (type: {type(nama)})\")\n",
        "print(f\"NIM: {nim} (type: {type(nim)})\")\n",
        "print(f\"Nilai: {nilai} (type: {type(nilai)})\")\n",
        "\n",
        "#Hasil Evaluasi\n",
        "\n",
        "print(\"\\nHasil Evaluasi:\")\n",
        "print(f\"Mahasiswa: {nama} (NIM: {nim})\")\n",
        "print(f\"Nilai Ujian: {nilai}\")\n",
        "\n",
        "if 85 <= nilai <=100:\n",
        "    print(\"Kategori Nilai: A (Sangat Baik)\")\n",
        "elif 75 <= nilai <= 84:\n",
        "    print(\"Kategori Nilai: B (Baik)\")\n",
        "elif 60 <= nilai <= 74:\n",
        "    print(\"Kategori Nilai: C (Cukup)\")\n",
        "elif 40 <= nilai <= 59:\n",
        "    print(\"Kategori Nilai: D (Kurang)\")\n",
        "elif nilai < 40:\n",
        "    print(\"Kategori Nilai: E (Sangat Kurang)\")\n",
        "\n"
      ],
      "metadata": {
        "colab": {
          "base_uri": "https://localhost:8080/"
        },
        "id": "sktMtn5H2UcM",
        "outputId": "6d3cf6e7-26d4-407c-aca3-92ea3a145e64"
      },
      "id": "sktMtn5H2UcM",
      "execution_count": null,
      "outputs": [
        {
          "output_type": "stream",
          "name": "stdout",
          "text": [
            "========== Data Mahasiwa ==========\n",
            "Masukkan nama mahasiswa: Frilantika\n",
            "Masukkan NIM: 1234567890\n",
            "Masukkan nilai ujian (0-100): 90\n",
            "\n",
            "Nama: Frilantika (type: <class 'str'>)\n",
            "NIM: 1234567890 (type: <class 'str'>)\n",
            "Nilai: 90 (type: <class 'int'>)\n",
            "\n",
            "Hasil Evaluasi:\n",
            "Mahasiswa: Frilantika (NIM: 1234567890)\n",
            "Nilai Ujian: 90\n",
            "Kategori Nilai: A (Sangat Baik)\n"
          ]
        }
      ]
    },
    {
      "cell_type": "code",
      "source": [],
      "metadata": {
        "id": "uF-fBFSQ3uLW"
      },
      "id": "uF-fBFSQ3uLW",
      "execution_count": null,
      "outputs": []
    }
  ],
  "metadata": {
    "kernelspec": {
      "display_name": "Python 3 (ipykernel)",
      "language": "python",
      "name": "python3"
    },
    "language_info": {
      "codemirror_mode": {
        "name": "ipython",
        "version": 3
      },
      "file_extension": ".py",
      "mimetype": "text/x-python",
      "name": "python",
      "nbconvert_exporter": "python",
      "pygments_lexer": "ipython3",
      "version": "3.11.4"
    },
    "colab": {
      "provenance": []
    }
  },
  "nbformat": 4,
  "nbformat_minor": 5
}